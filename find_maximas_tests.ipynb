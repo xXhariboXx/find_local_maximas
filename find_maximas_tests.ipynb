{
 "cells": [
  {
   "cell_type": "code",
   "execution_count": null,
   "metadata": {},
   "outputs": [],
   "source": [
    "import json\n",
    "from dataclasses import dataclass\n",
    "from typing import List, Tuple\n",
    "\n",
    "import matplotlib.pyplot as plt\n",
    "import numpy as np\n",
    "from dacite.core import from_dict\n",
    "from scipy.signal import argrelextrema, lfilter"
   ]
  },
  {
   "cell_type": "code",
   "execution_count": null,
   "metadata": {},
   "outputs": [],
   "source": [
    "input_file_path = \"data.json\"\n",
    "output = \"result.json\"\n",
    "window = 3"
   ]
  },
  {
   "cell_type": "code",
   "execution_count": null,
   "metadata": {},
   "outputs": [],
   "source": [
    "@dataclass\n",
    "class MeasurementData:\n",
    "    time: float\n",
    "    data: float"
   ]
  },
  {
   "cell_type": "code",
   "execution_count": null,
   "metadata": {},
   "outputs": [],
   "source": [
    "with open(input_file_path) as file:\n",
    "    json_data = json.load(file)\n",
    "    measurements = []\n",
    "    for entry in json_data:\n",
    "        measurements.append(from_dict(MeasurementData, entry))"
   ]
  },
  {
   "cell_type": "code",
   "execution_count": null,
   "metadata": {},
   "outputs": [],
   "source": [
    "measurement_data = np.array([measurement.data for measurement in measurements])\n",
    "measurement_times = np.array([measurement.time for measurement in measurements])\n",
    "plt.plot(measurement_times, measurement_data)"
   ]
  },
  {
   "cell_type": "code",
   "execution_count": null,
   "metadata": {},
   "outputs": [],
   "source": [
    "moving_averages = []\n",
    "\n",
    "i = 0\n",
    "# Loop with moving average procedure\n",
    "while i < len(measurement_data) - window + 3:\n",
    "\n",
    "    # Calculate the average of current window\n",
    "    window_average = round(np.sum(measurement_data[i : i + 3]) / 3, 2)\n",
    "\n",
    "    # Store the average\n",
    "    moving_averages.append(window_average)\n",
    "\n",
    "    # Shift window to right by one position\n",
    "    i += 1"
   ]
  },
  {
   "cell_type": "code",
   "execution_count": null,
   "metadata": {},
   "outputs": [],
   "source": [
    "n = 11\n",
    "b = [1.0 / n] * n\n",
    "a = 1\n",
    "smoothed = lfilter(b, a, measurement_data)\n",
    "plt.plot(measurement_times, smoothed)"
   ]
  },
  {
   "cell_type": "code",
   "execution_count": null,
   "metadata": {},
   "outputs": [],
   "source": [
    "result_index = argrelextrema(np.array(measurement_data), np.greater_equal, order=window)[0]\n",
    "result_index"
   ]
  },
  {
   "cell_type": "code",
   "execution_count": null,
   "metadata": {},
   "outputs": [],
   "source": [
    "res_list = [measurements[i] for i in list(result_index)]\n",
    "res_list"
   ]
  },
  {
   "cell_type": "code",
   "execution_count": null,
   "metadata": {},
   "outputs": [],
   "source": [
    "\n",
    "maximas_data = [measurement.data for measurement in res_list]\n",
    "maximas_time = [measurement.time for measurement in res_list]"
   ]
  },
  {
   "cell_type": "code",
   "execution_count": null,
   "metadata": {},
   "outputs": [],
   "source": [
    "plt.plot(measurement_times, measurement_data)\n",
    "plt.plot(maximas_time, maximas_data, \"o\", color=\"red\")"
   ]
  }
 ],
 "metadata": {
  "kernelspec": {
   "display_name": "find_local_maximas",
   "language": "python",
   "name": "python3"
  },
  "language_info": {
   "codemirror_mode": {
    "name": "ipython",
    "version": 3
   },
   "file_extension": ".py",
   "mimetype": "text/x-python",
   "name": "python",
   "nbconvert_exporter": "python",
   "pygments_lexer": "ipython3",
   "version": "3.10.9"
  },
  "orig_nbformat": 4,
  "vscode": {
   "interpreter": {
    "hash": "73f816cd9568c24fb6f7772dfe01eb58b3cdc1672f2bdc352f6e4263dae87a70"
   }
  }
 },
 "nbformat": 4,
 "nbformat_minor": 2
}
